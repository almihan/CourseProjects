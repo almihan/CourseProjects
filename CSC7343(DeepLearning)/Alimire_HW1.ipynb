{
 "cells": [
  {
   "cell_type": "markdown",
   "metadata": {},
   "source": [
    "### All Libraries Needed Through the Tasks"
   ]
  },
  {
   "cell_type": "code",
   "execution_count": 30,
   "metadata": {},
   "outputs": [],
   "source": [
    "import torch\n",
    "import torch.nn as nn\n",
    "import torch.nn.functional as F\n",
    "import torchvision.datasets as dsets\n",
    "import torchvision.transforms as transforms\n",
    "from torch.utils.data import Dataset, DataLoader\n",
    "from torch import optim\n",
    "#from torchvision import models\n",
    "from torch.autograd import Variable\n",
    "import wget\n"
   ]
  },
  {
   "cell_type": "markdown",
   "metadata": {},
   "source": [
    "###  Definition of Import  File Function "
   ]
  },
  {
   "cell_type": "code",
   "execution_count": 36,
   "metadata": {},
   "outputs": [],
   "source": [
    "def download(fid, fn):\n",
    "    durl = 'https://drive.google.com/' + 'open?id=' + fid\n",
    "    print('downloading from', durl)\n",
    "    wget.download(durl, fn)\n",
    "    "
   ]
  },
  {
   "cell_type": "markdown",
   "metadata": {},
   "source": [
    "### Common Parameters Through the Tasks"
   ]
  },
  {
   "cell_type": "code",
   "execution_count": 17,
   "metadata": {},
   "outputs": [],
   "source": [
    "num_epochs = 20;\n",
    "batch_size=32"
   ]
  },
  {
   "cell_type": "markdown",
   "metadata": {},
   "source": [
    "### Load Data"
   ]
  },
  {
   "cell_type": "code",
   "execution_count": 18,
   "metadata": {},
   "outputs": [],
   "source": [
    "#transforms.ToTensor() converts our PILImage to a tensor of shape (C x H x W) in the range [0,1]\n",
    "datapath='F_MNIST_data/';\n",
    "#load train data\n",
    "trainset = dsets.FashionMNIST(root=datapath, train = True, transform=transforms.ToTensor(), download=True)\n",
    "trainloader = DataLoader(trainset, shuffle=True, batch_size=batch_size)\n",
    "#load test data\n",
    "testset = dsets.FashionMNIST(root=datapath, train = False, transform=transforms.ToTensor(), download = True)\n",
    "testloader = DataLoader(testset, shuffle=False, batch_size=batch_size)\n"
   ]
  },
  {
   "cell_type": "markdown",
   "metadata": {},
   "source": [
    "## Task1"
   ]
  },
  {
   "cell_type": "markdown",
   "metadata": {},
   "source": [
    "### CNN Model Definition"
   ]
  },
  {
   "cell_type": "code",
   "execution_count": 48,
   "metadata": {},
   "outputs": [],
   "source": [
    "class CNN(nn.Module):\n",
    "    def __init__(self):\n",
    "        super().__init__()\n",
    "        #no paddings\n",
    "        #input 28x28\n",
    "        #output size= (input - filter + 2*padding)/stride +1\n",
    "        self.conv1 = nn.Conv2d(1, 32, kernel_size=3, stride=2)\n",
    "        #13x13\n",
    "       \n",
    "        self.conv2 = nn.Conv2d(32, 64, kernel_size=3, stride=2)\n",
    "        #6x6\n",
    "        self.conv3 = nn.Conv2d(64, 128, kernel_size=3, stride=2)\n",
    "        #2x2    \n",
    "        self.fc1 = nn.Linear(2*2*128, 256)\n",
    "        self.fc2 = nn.Linear(256, 10)\n",
    "    \n",
    "    def forward(self,x):\n",
    "        out = F.relu(self.conv1(x))\n",
    "        out = F.relu(self.conv2(out))\n",
    "        out = F.relu(self.conv3(out))\n",
    "        out = out.view(out.size(0), -1)\n",
    "        out = F.relu(self.fc1(out))\n",
    "        out = self.fc2(out)\n",
    "        return out\n",
    "    "
   ]
  },
  {
   "cell_type": "markdown",
   "metadata": {},
   "source": [
    "### Initialize  CNN Model"
   ]
  },
  {
   "cell_type": "code",
   "execution_count": 5,
   "metadata": {},
   "outputs": [],
   "source": [
    "model =CNN()"
   ]
  },
  {
   "cell_type": "markdown",
   "metadata": {},
   "source": [
    "### Training CNN Model"
   ]
  },
  {
   "cell_type": "code",
   "execution_count": 6,
   "metadata": {},
   "outputs": [
    {
     "name": "stdout",
     "output_type": "stream",
     "text": [
      "Epoch: 0/20, TrainLoss: 0.545,  TestLoss: 0.476, TrainAccuracy: 0.797,TestAccuracy: 0.816\n",
      "Epoch: 5/20, TrainLoss: 0.224,  TestLoss: 0.308, TrainAccuracy: 0.915,TestAccuracy: 0.894\n",
      "Epoch: 10/20, TrainLoss: 0.125,  TestLoss: 0.376, TrainAccuracy: 0.952,TestAccuracy: 0.896\n",
      "Epoch: 15/20, TrainLoss: 0.074,  TestLoss: 0.516, TrainAccuracy: 0.972,TestAccuracy: 0.891\n",
      "Epoch: 19/20, TrainLoss: 0.054,  TestLoss: 0.639, TrainAccuracy: 0.980,TestAccuracy: 0.892\n"
     ]
    }
   ],
   "source": [
    "criterion = nn.CrossEntropyLoss()\n",
    "optimizer = optim.Adam(model.parameters(), lr=0.001)\n",
    "\n",
    "train_acc, test_acc=[],[]\n",
    "\n",
    "for epoch in range(num_epochs):\n",
    "    train_loss = 0\n",
    "    test_loss = 0\n",
    "    train_accuracy = 0\n",
    "    test_accuracy = 0\n",
    "    for images, labels in trainloader:\n",
    "        \n",
    "        out = model(images)\n",
    "        loss = criterion(out, labels)\n",
    "        \n",
    "        loss.backward()\n",
    "        optimizer.step()\n",
    "        optimizer.zero_grad()\n",
    "        \n",
    "        train_loss += loss.item()\n",
    "        predicted = torch.argmax(out, dim=1)\n",
    "        correct = (predicted == labels).sum().item()\n",
    "        train_accuracy += correct/labels.size(0)\n",
    "    train_acc.append(train_accuracy/len(trainloader))\n",
    "    \n",
    "    with torch.no_grad():\n",
    "        model.eval()\n",
    "        for images, labels in testloader:\n",
    "            out = model(images)\n",
    "            loss = criterion(out, labels)\n",
    "            test_loss += loss.item()\n",
    "            predicted = torch.argmax(out, dim=1)\n",
    "            correct = (predicted == labels).sum().item()\n",
    "            test_accuracy += correct/labels.size(0)\n",
    "    test_acc.append(test_accuracy/len(testloader))\n",
    "    \n",
    "    model.train()  \n",
    "    \n",
    "    if(epoch%5==0 or epoch==19):\n",
    "        print('Epoch: {}/{}, TrainLoss: {:.3f},  TestLoss: {:.3f}, TrainAccuracy: {:.3f},TestAccuracy: {:.3f}'\n",
    "              .format(epoch , num_epochs, train_loss/len(trainloader), test_loss/ len(testloader),\n",
    "                     train_accuracy /len(trainloader), test_accuracy / len(testloader)))\n",
    "          \n",
    "torch.save(model.state_dict(), \"CNN_Model.pth\")  \n",
    "              "
   ]
  },
  {
   "cell_type": "markdown",
   "metadata": {},
   "source": [
    "### CNN Model Google Drive Link"
   ]
  },
  {
   "cell_type": "code",
   "execution_count": 49,
   "metadata": {},
   "outputs": [
    {
     "name": "stdout",
     "output_type": "stream",
     "text": [
      "downloading from https://drive.google.com/uc?export=download&id=1F456ZrzQBwTFFtEvlDtA5QObLWKPrGl4\n"
     ]
    },
    {
     "data": {
      "text/plain": [
       "IncompatibleKeys(missing_keys=[], unexpected_keys=[])"
      ]
     },
     "execution_count": 49,
     "metadata": {},
     "output_type": "execute_result"
    }
   ],
   "source": [
    "#https://drive.google.com/open?id=1F456ZrzQBwTFFtEvlDtA5QObLWKPrGl4\n",
    "fid = '1F456ZrzQBwTFFtEvlDtA5QObLWKPrGl4'\n",
    "download(fid, 'CNN_model.pth')\n",
    "model =CNN()\n",
    "model.load_state_dict(torch.load(\"CNN_model.pth\"))"
   ]
  },
  {
   "cell_type": "markdown",
   "metadata": {},
   "source": [
    "### Plots and Analysis"
   ]
  },
  {
   "cell_type": "code",
   "execution_count": 7,
   "metadata": {},
   "outputs": [
    {
     "data": {
      "text/plain": [
       "Text(0,0.5,'Accuracy')"
      ]
     },
     "execution_count": 7,
     "metadata": {},
     "output_type": "execute_result"
    },
    {
     "data": {
      "image/png": "[encoded data removed]",
      "text/plain": [
       "<matplotlib.figure.Figure at 0x122c0bf98>"
      ]
     },
     "metadata": {},
     "output_type": "display_data"
    }
   ],
   "source": [
    "import matplotlib.pyplot as plt\n",
    "%matplotlib inline\n",
    "from matplotlib.ticker import MaxNLocator\n",
    "\n",
    "ax = plt.figure().gca()\n",
    "ax.xaxis.set_major_locator(MaxNLocator(integer=True))\n",
    "plt.plot(train_acc,label = \"Train accuracy\")\n",
    "plt.plot(test_acc, label = \"Test accuracy\")\n",
    "plt.legend()\n",
    "plt.xlabel(\"Epoch #\")\n",
    "plt.ylabel(\"Accuracy\")"
   ]
  },
  {
   "cell_type": "markdown",
   "metadata": {},
   "source": [
    "## Task2"
   ]
  },
  {
   "cell_type": "markdown",
   "metadata": {},
   "source": [
    "### VAE Model Definition"
   ]
  },
  {
   "cell_type": "code",
   "execution_count": 33,
   "metadata": {},
   "outputs": [],
   "source": [
    "class VAE(nn.Module):\n",
    "    def __init__(self):\n",
    "        super().__init__()\n",
    "        \n",
    "        # Encoder\n",
    "        self.conv1 = nn.Conv2d(1, 32, kernel_size=3, stride=2)\n",
    "        #13x13\n",
    "       \n",
    "        self.conv2 = nn.Conv2d(32, 64, kernel_size=3, stride=2)\n",
    "        #6x6\n",
    "        self.conv3 = nn.Conv2d(64, 128, kernel_size=3, stride=2)\n",
    "        #2x2    \n",
    "        self.fc1 = nn.Linear(2*2*128, 256)\n",
    "        \n",
    "        self.fc21 = nn.Linear(256, 256) #mean layer\n",
    "        self.fc22 = nn.Linear(256, 256) #variance layer\n",
    "        \n",
    "        # Sampling vector\n",
    "        self.fc3 = nn.Linear(256, 256)\n",
    "        self.fc4 = nn.Linear(256, 2 * 2 * 128)\n",
    "        \n",
    "        \n",
    "      # Decoder\n",
    "        self.conv5 = nn.ConvTranspose2d(128, 64, kernel_size=3, stride=2,output_padding=1)\n",
    "        self.conv6 = nn.ConvTranspose2d(64, 32, kernel_size=3, stride=2)\n",
    "        self.conv7 = nn.ConvTranspose2d(32, 1, kernel_size=3, stride=2,output_padding=1)\n",
    "    \n",
    "    def forward(self,x):\n",
    "        #encode\n",
    "        conv1 = F.relu(self.conv1(x))\n",
    "        conv2 = F.relu(self.conv2(conv1))\n",
    "        conv3 = F.relu(self.conv3(conv2))\n",
    "        conv3 = conv3.view(conv3.size(0),-1)\n",
    "        \n",
    "        #Calculate latent vectors\n",
    "        fc1 = F.relu(self.fc1(conv3))\n",
    "        mu = self.fc21(fc1)\n",
    "        logvar = self.fc22(fc1)\n",
    "       \n",
    "        # Sample from latent vectors\n",
    "        std = logvar.mul(0.5).exp_()\n",
    "        eps = Variable(std.data.new(std.size()).normal_())\n",
    "        z = eps.mul(std).add_(mu)\n",
    "        \n",
    "        #decode\n",
    "        fc3 = F.relu(self.fc3(z))\n",
    "        fc4 = F.relu(self.fc4(fc3))\n",
    "        fc4 = fc4.view(-1,128,2,2)\n",
    "        conv5 = F.relu(self.conv5(fc4))\n",
    "        conv6 = F.relu(self.conv6(conv5))\n",
    "        out = self.conv7(conv6).view(-1, 1, 28, 28)\n",
    "        return out, mu ,logvar\n"
   ]
  },
  {
   "cell_type": "markdown",
   "metadata": {},
   "source": [
    "### Loss function"
   ]
  },
  {
   "cell_type": "code",
   "execution_count": 9,
   "metadata": {},
   "outputs": [],
   "source": [
    "class Loss(nn.Module):\n",
    "    def __init__(self):\n",
    "        super(Loss, self).__init__()\n",
    "        self.bn_loss = nn.BCEWithLogitsLoss()\n",
    "    def forward(self, recon_x, x, mu, logvar):\n",
    "        BN = self.bn_loss(recon_x, x)\n",
    "        KLD = -0.5 * torch.sum(1 + logvar - mu.pow(2)-logvar.exp())\n",
    "        #normalize\n",
    "        KLD /= batch_size * 784\n",
    "        return BN + KLD\n"
   ]
  },
  {
   "cell_type": "markdown",
   "metadata": {},
   "source": [
    "### Initiolize VAE Model"
   ]
  },
  {
   "cell_type": "code",
   "execution_count": 10,
   "metadata": {},
   "outputs": [],
   "source": [
    "model =VAE()"
   ]
  },
  {
   "cell_type": "markdown",
   "metadata": {},
   "source": [
    "### Training VAE Model"
   ]
  },
  {
   "cell_type": "code",
   "execution_count": 11,
   "metadata": {},
   "outputs": [
    {
     "name": "stdout",
     "output_type": "stream",
     "text": [
      "Epoch: 0/20, TrainLoss: 0.432\n",
      "Epoch: 5/20, TrainLoss: 0.384\n",
      "Epoch: 10/20, TrainLoss: 0.382\n",
      "Epoch: 15/20, TrainLoss: 0.381\n",
      "Epoch: 19/20, TrainLoss: 0.381\n"
     ]
    }
   ],
   "source": [
    "#train model\n",
    "\n",
    "criterion = Loss()\n",
    "optimizer = optim.Adam(model.parameters(), lr=0.005)\n",
    "\n",
    "for epoch in range(num_epochs):\n",
    "    train_loss = 0\n",
    "    for images, labels in trainloader:\n",
    "        \n",
    "        op,mu,logvar = model(images)\n",
    "        loss=criterion(op, images, mu, logvar)\n",
    "        \n",
    "        optimizer.zero_grad()\n",
    "        loss.backward()\n",
    "        optimizer.step() \n",
    "        train_loss += loss\n",
    "            \n",
    "    if(epoch%5==0 or epoch==19):\n",
    "        print('Epoch: {}/{}, TrainLoss: {:.3f}'\n",
    "              .format(epoch, num_epochs,train_loss/len(trainloader)))\n",
    "    \n",
    "                \n",
    "torch.save(model.state_dict(), \"VAE_model.pth\")                "
   ]
  },
  {
   "cell_type": "markdown",
   "metadata": {},
   "source": [
    "### VAE Model Google Drive Link"
   ]
  },
  {
   "cell_type": "code",
   "execution_count": 50,
   "metadata": {},
   "outputs": [
    {
     "name": "stdout",
     "output_type": "stream",
     "text": [
      "downloading from https://drive.google.com/uc?export=download&id=1XQ96BOUNLVNB532yU7a7eRZSXWrzlZGv\n"
     ]
    },
    {
     "data": {
      "text/plain": [
       "IncompatibleKeys(missing_keys=[], unexpected_keys=[])"
      ]
     },
     "execution_count": 50,
     "metadata": {},
     "output_type": "execute_result"
    }
   ],
   "source": [
    "#https://drive.google.com/open?id=1XQ96BOUNLVNB532yU7a7eRZSXWrzlZGv\n",
    "fid = '1XQ96BOUNLVNB532yU7a7eRZSXWrzlZGv'\n",
    "download(fid,'VAE_model.pth')\n",
    "model =VAE()\n",
    "model.load_state_dict(torch.load(\"VAE_model.pth\"))"
   ]
  },
  {
   "cell_type": "markdown",
   "metadata": {},
   "source": [
    "### Plots and Analysis"
   ]
  },
  {
   "cell_type": "code",
   "execution_count": 51,
   "metadata": {},
   "outputs": [
    {
     "data": {
      "image/png": "[encoded data removed]",
      "text/plain": [
       "<matplotlib.figure.Figure at 0x11bf262b0>"
      ]
     },
     "metadata": {},
     "output_type": "display_data"
    }
   ],
   "source": [
    "import matplotlib.pyplot as plt\n",
    "%matplotlib inline\n",
    "model =VAE()\n",
    "model.load_state_dict(torch.load(\"VAE_model.pth\"))\n",
    "\n",
    "with torch.no_grad():\n",
    "    model.eval()\n",
    "\n",
    "    x=[]\n",
    "    for images, _ in testloader:\n",
    "        _,mu,_ = model(images)\n",
    "        norm2 = torch.norm(mu, p=2, dim=1)\n",
    "        x.extend(norm2)\n",
    "    plt.hist(x)\n"
   ]
  },
  {
   "cell_type": "code",
   "execution_count": 24,
   "metadata": {},
   "outputs": [
    {
     "data": {
      "image/png": "[encoded data removed]",
      "text/plain": [
       "<matplotlib.figure.Figure at 0x11ba03e10>"
      ]
     },
     "metadata": {},
     "output_type": "display_data"
    }
   ],
   "source": [
    "with torch.no_grad():\n",
    "    model.eval()\n",
    "    for images, _ in testloader:\n",
    "        for i in range(4):\n",
    "    # display original\n",
    "            ax = plt.subplot(2, 4, i + 1)\n",
    "            plt.imshow(images[i].reshape(28, 28))\n",
    "            plt.gray()\n",
    "            ax.get_xaxis().set_visible(False)\n",
    "            ax.get_yaxis().set_visible(False)\n",
    "\n",
    "    # display reconstruction\n",
    "            recon_img,_,_ = model(images)\n",
    "            y_prob = torch.sigmoid(recon_img)\n",
    "            ax = plt.subplot(2, 4, i + 1 + 4)\n",
    "            plt.imshow(y_prob[i].reshape(28, 28))\n",
    "            plt.gray()\n",
    "            ax.get_xaxis().set_visible(False)\n",
    "            ax.get_yaxis().set_visible(False)\n",
    "        break   \n",
    "        plt.show()\n",
    "    "
   ]
  },
  {
   "cell_type": "markdown",
   "metadata": {},
   "source": [
    "## Task3"
   ]
  },
  {
   "cell_type": "markdown",
   "metadata": {},
   "source": [
    "### Joint Model Definition"
   ]
  },
  {
   "cell_type": "code",
   "execution_count": 25,
   "metadata": {},
   "outputs": [],
   "source": [
    "class JOINT(nn.Module):\n",
    "    def __init__(self):\n",
    "        super().__init__()\n",
    "        \n",
    "        # Encoder\n",
    "        self.conv1 = nn.Conv2d(1, 32, kernel_size=3, stride=2)\n",
    "        #13x13\n",
    "       \n",
    "        self.conv2 = nn.Conv2d(32, 64, kernel_size=3, stride=2)\n",
    "        #6x6\n",
    "        self.conv3 = nn.Conv2d(64, 128, kernel_size=3, stride=2)\n",
    "        #2x2    \n",
    "        self.fc1 = nn.Linear(2*2*128, 256)\n",
    "        \n",
    "        self.fc21 = nn.Linear(256, 256) #mean layer\n",
    "        self.fc22 = nn.Linear(256, 256) #variance layer\n",
    "        \n",
    "        #pass mean to softmax layer\n",
    "        self.soft = nn.Linear(256, 10)\n",
    "        \n",
    "        \n",
    "        # Sampling vector\n",
    "        self.fc3 = nn.Linear(256, 256)\n",
    "        self.fc4 = nn.Linear(256, 2 * 2 * 128)\n",
    "        \n",
    "        \n",
    "      # Decoder\n",
    "        self.conv5 = nn.ConvTranspose2d(128, 64, kernel_size=3, stride=2,output_padding=1)\n",
    "        self.conv6 = nn.ConvTranspose2d(64, 32, kernel_size=3, stride=2)\n",
    "        self.conv7 = nn.ConvTranspose2d(32, 1, kernel_size=3, stride=2,output_padding=1)\n",
    "    \n",
    "    def forward(self,x):\n",
    "        #encode\n",
    "        conv1 = F.relu(self.conv1(x))\n",
    "        conv2 = F.relu(self.conv2(conv1))\n",
    "        conv3 = F.relu(self.conv3(conv2))\n",
    "        conv3 = conv3.view(conv3.size(0),-1)\n",
    "        \n",
    "        \n",
    "        #Calculate latent vectors\n",
    "        fc1 = F.relu(self.fc1(conv3))\n",
    "        mu = self.fc21(fc1)\n",
    "        logvar = self.fc22(fc1)\n",
    "        \n",
    "        #softlayer\n",
    "        softlayer = self.soft(mu)\n",
    "       \n",
    "        # Sample from latent vectors\n",
    "        std = logvar.mul(0.5).exp_()\n",
    "        eps = Variable(std.data.new(std.size()).normal_())\n",
    "        z = eps.mul(std).add_(mu)\n",
    "        \n",
    "        #decode\n",
    "        fc3 = F.relu(self.fc3(z))\n",
    "        fc4 = F.relu(self.fc4(fc3))\n",
    "        fc4 = fc4.view(-1,128,2,2)\n",
    "        conv5 = F.relu(self.conv5(fc4))\n",
    "        conv6 = F.relu(self.conv6(conv5))\n",
    "        out = self.conv7(conv6).view(-1, 1, 28, 28)\n",
    "        \n",
    "        return out, mu ,logvar, softlayer\n",
    "\n"
   ]
  },
  {
   "cell_type": "markdown",
   "metadata": {},
   "source": [
    "### Loss Function"
   ]
  },
  {
   "cell_type": "code",
   "execution_count": 26,
   "metadata": {},
   "outputs": [],
   "source": [
    "class Loss(nn.Module):\n",
    "    def __init__(self):\n",
    "        super(Loss, self).__init__()\n",
    "        self.entropy_loss =  nn.CrossEntropyLoss()\n",
    "        self.bn_loss = nn.BCEWithLogitsLoss()\n",
    "    def forward(self, recon_x, x, mu, logvar,softlayer,label):\n",
    "        EN = self.entropy_loss(softlayer, label)\n",
    "        BN = self.bn_loss(recon_x, x)\n",
    "        KLD = -0.5 * torch.sum(1 + logvar - mu.pow(2)-logvar.exp())\n",
    "        #normalize\n",
    "        KLD /= batch_size * 784\n",
    "        return BN + KLD+EN"
   ]
  },
  {
   "cell_type": "markdown",
   "metadata": {},
   "source": [
    "Initiolization Joint Model"
   ]
  },
  {
   "cell_type": "code",
   "execution_count": 27,
   "metadata": {},
   "outputs": [],
   "source": [
    "model =JOINT()\n"
   ]
  },
  {
   "cell_type": "markdown",
   "metadata": {},
   "source": [
    "### Training Joint Model"
   ]
  },
  {
   "cell_type": "code",
   "execution_count": 28,
   "metadata": {},
   "outputs": [
    {
     "name": "stdout",
     "output_type": "stream",
     "text": [
      "Epoch: 1/20, TrainLoss: 0.986,  TestLoss: 0.842, TrainAccuracy: 0.805,TestAccuracy: 0.846\n",
      "Epoch: 6/20, TrainLoss: 0.614,  TestLoss: 0.732, TrainAccuracy: 0.922,TestAccuracy: 0.890\n",
      "Epoch: 11/20, TrainLoss: 0.521,  TestLoss: 0.778, TrainAccuracy: 0.956,TestAccuracy: 0.889\n",
      "Epoch: 16/20, TrainLoss: 0.475,  TestLoss: 0.863, TrainAccuracy: 0.972,TestAccuracy: 0.889\n",
      "Epoch: 20/20, TrainLoss: 0.456,  TestLoss: 0.939, TrainAccuracy: 0.978,TestAccuracy: 0.888\n"
     ]
    }
   ],
   "source": [
    "criterion = Loss()\n",
    "\n",
    "optimizer = optim.Adam(model.parameters(), lr=0.001)\n",
    "\n",
    "train_acc, test_acc=[],[]\n",
    "\n",
    "for epoch in range(num_epochs):\n",
    "    train_loss = 0\n",
    "    test_loss = 0\n",
    "    train_accuracy = 0\n",
    "    test_accuracy = 0\n",
    "    for images, labels in trainloader:\n",
    "        \n",
    "        op,mu,logvar,softlayer = model(images)\n",
    "        loss=criterion(op, images, mu, logvar,softlayer,labels)\n",
    "        \n",
    "        optimizer.zero_grad()\n",
    "        loss.backward()\n",
    "        optimizer.step()\n",
    "        \n",
    "        train_loss += loss\n",
    "        predicted = torch.argmax(softlayer, dim=1)\n",
    "        correct = (predicted == labels).sum().item()\n",
    "        train_accuracy += correct/labels.size(0)\n",
    "    \n",
    "    train_acc.append(train_accuracy/len(trainloader))\n",
    "    \n",
    "    with torch.no_grad():\n",
    "        model.eval()\n",
    "        for images, labels in testloader:\n",
    "            op,mu,logvar,softlayer = model(images)\n",
    "            loss=criterion(op, images, mu, logvar,softlayer,labels)\n",
    "            test_loss += loss\n",
    "            predicted = torch.argmax(softlayer, dim=1)\n",
    "            \n",
    "            correct = (predicted == labels).sum().item()\n",
    "            test_accuracy += correct/labels.size(0)\n",
    "    test_acc.append(test_accuracy/len(testloader))\n",
    "    \n",
    "    model.train()        \n",
    "            \n",
    "    if(epoch%5==0 or epoch==19):\n",
    "        print('Epoch: {}/{}, TrainLoss: {:.3f},  TestLoss: {:.3f}, TrainAccuracy: {:.3f},TestAccuracy: {:.3f}'\n",
    "              .format(epoch + 1, num_epochs, train_loss/len(trainloader), test_loss/ len(testloader),\n",
    "                     train_accuracy /len(trainloader), test_accuracy / len(testloader)))\n",
    "    \n",
    "        \n",
    "        \n",
    "torch.save(model.state_dict(), \"jointmodel.pth\")  \n",
    "              "
   ]
  },
  {
   "cell_type": "markdown",
   "metadata": {},
   "source": [
    "### Joint Model Google Drive Link "
   ]
  },
  {
   "cell_type": "code",
   "execution_count": 40,
   "metadata": {},
   "outputs": [
    {
     "name": "stdout",
     "output_type": "stream",
     "text": [
      "downloading from https://drive.google.com/uc?export=download&id=1WmelDJlVmtUeAEE8IwbD3uR-B0QSHynL\n"
     ]
    },
    {
     "data": {
      "text/plain": [
       "IncompatibleKeys(missing_keys=[], unexpected_keys=[])"
      ]
     },
     "execution_count": 40,
     "metadata": {},
     "output_type": "execute_result"
    }
   ],
   "source": [
    "#https://drive.google.com/open?id=1WmelDJlVmtUeAEE8IwbD3uR-B0QSHynL\n",
    "fid = '1WmelDJlVmtUeAEE8IwbD3uR-B0QSHynL'\n",
    "download(fid, 'joint_model.pth')\n",
    "model =JOINT()\n",
    "model.load_state_dict(torch.load(\"joint_model.pth\"))"
   ]
  },
  {
   "cell_type": "markdown",
   "metadata": {},
   "source": [
    "### Plots and Analysis"
   ]
  },
  {
   "cell_type": "code",
   "execution_count": 41,
   "metadata": {},
   "outputs": [
    {
     "data": {
      "text/plain": [
       "Text(0,0.5,'Accuracy')"
      ]
     },
     "execution_count": 41,
     "metadata": {},
     "output_type": "execute_result"
    },
    {
     "data": {
      "image/png": "[encoded data removed]",
      "text/plain": [
       "<matplotlib.figure.Figure at 0x11b9ff390>"
      ]
     },
     "metadata": {},
     "output_type": "display_data"
    }
   ],
   "source": [
    " import matplotlib.pyplot as plt\n",
    "%matplotlib inline\n",
    "from matplotlib.ticker import MaxNLocator\n",
    "\n",
    "ax = plt.figure().gca()\n",
    "ax.xaxis.set_major_locator(MaxNLocator(integer=True))\n",
    "plt.plot(train_acc,label = \"Train accuracy\")\n",
    "plt.plot(test_acc, label = \"Test accuracy\")\n",
    "plt.legend()\n",
    "plt.xlabel(\"Epoch #\")\n",
    "plt.ylabel(\"Accuracy\")"
   ]
  },
  {
   "cell_type": "markdown",
   "metadata": {},
   "source": [
    "### Training Transfer Model"
   ]
  },
  {
   "cell_type": "code",
   "execution_count": 42,
   "metadata": {},
   "outputs": [],
   "source": [
    "\n",
    "model =VAE()\n",
    "model.load_state_dict(torch.load(\"VAE_model.pth\"))\n",
    "\n",
    "class Transfer(nn.Module):\n",
    "    def __init__(self):\n",
    "        super().__init__()       \n",
    "        self.conv1 = model.conv1\n",
    "        self.conv2 = model.conv2\n",
    "        self.conv3 = model.conv3  \n",
    "        self.fc1 = model.fc1\n",
    "        self.mean = model.fc21\n",
    "        \n",
    "        #discard decoder and add new layer\n",
    "\n",
    "        self.softlayer = nn.Linear(256, 10)\n",
    "                \n",
    "    def forward(self, x):\n",
    "        conv1 = F.relu(self.conv1(x))\n",
    "        conv2 = F.relu(self.conv2(conv1))\n",
    "        conv3 = F.relu(self.conv3(conv2))\n",
    "        conv3 = conv3.view(conv3.size(0),-1)\n",
    "        \n",
    "        fc1 = F.relu(self.fc1(conv3))\n",
    "        mu = self.mean(fc1)\n",
    "        out = self.softlayer(mu)\n",
    "        return out\n",
    "            "
   ]
  },
  {
   "cell_type": "markdown",
   "metadata": {},
   "source": [
    "### Initiolization Transfer Model"
   ]
  },
  {
   "cell_type": "code",
   "execution_count": 43,
   "metadata": {},
   "outputs": [],
   "source": [
    "model_tranfer = Transfer()"
   ]
  },
  {
   "cell_type": "markdown",
   "metadata": {},
   "source": [
    "### Training Transfer Model"
   ]
  },
  {
   "cell_type": "code",
   "execution_count": 44,
   "metadata": {},
   "outputs": [
    {
     "name": "stdout",
     "output_type": "stream",
     "text": [
      "Epoch: 0/20, TrainLoss: 0.585,  TestLoss: 0.529, TrainAccuracy: 0.782,TestAccuracy: 0.794\n",
      "Epoch: 5/20, TrainLoss: 0.392,  TestLoss: 0.439, TrainAccuracy: 0.851,TestAccuracy: 0.834\n",
      "Epoch: 10/20, TrainLoss: 0.358,  TestLoss: 0.412, TrainAccuracy: 0.864,TestAccuracy: 0.844\n",
      "Epoch: 15/20, TrainLoss: 0.337,  TestLoss: 0.414, TrainAccuracy: 0.870,TestAccuracy: 0.851\n",
      "Epoch: 19/20, TrainLoss: 0.325,  TestLoss: 0.418, TrainAccuracy: 0.875,TestAccuracy: 0.850\n"
     ]
    }
   ],
   "source": [
    "\n",
    "criterion = nn.CrossEntropyLoss()\n",
    "optimizer = optim.Adam(model_tranfer.parameters(), lr=0.001)\n",
    "#train model\n",
    "train_acc, test_acc=[],[]\n",
    "\n",
    "for epoch in range(num_epochs):\n",
    "    train_loss = 0\n",
    "    test_loss = 0\n",
    "    train_accuracy = 0\n",
    "    test_accuracy = 0\n",
    "    for images, labels in trainloader:\n",
    "        \n",
    "        op = model_tranfer(images)\n",
    "        loss = criterion(op, labels)\n",
    "        \n",
    "        optimizer.zero_grad()\n",
    "        loss.backward()\n",
    "        optimizer.step()\n",
    "        \n",
    "        train_loss += loss.item()\n",
    "        predicted = torch.argmax(op, dim=1)\n",
    "        correct = (predicted == labels).sum().item()\n",
    "        train_accuracy += correct/labels.size(0)\n",
    "    \n",
    "    train_acc.append(train_accuracy/len(trainloader))\n",
    "    \n",
    "    with torch.no_grad():\n",
    "        model_tranfer.eval()\n",
    "        for images, labels in testloader:\n",
    "            op = model_tranfer(images)\n",
    "            loss = criterion(op, labels)\n",
    "            test_loss += loss.item()\n",
    "            predicted = torch.argmax(op, dim=1)\n",
    "            correct = (predicted == labels).sum().item()\n",
    "            test_accuracy += correct/labels.size(0)\n",
    "    test_acc.append(test_accuracy/len(testloader))\n",
    "    \n",
    "    model_tranfer.train()        \n",
    "            \n",
    "    if(epoch%5==0 or epoch==19):\n",
    "        print('Epoch: {}/{}, TrainLoss: {:.3f},  TestLoss: {:.3f}, TrainAccuracy: {:.3f},TestAccuracy: {:.3f}'\n",
    "              .format(epoch , num_epochs, train_loss/len(trainloader), test_loss/ len(testloader),\n",
    "                     train_accuracy /len(trainloader), test_accuracy / len(testloader)))\n",
    "    \n",
    "        \n",
    "        \n",
    "torch.save(model_tranfer.state_dict(), \"transfermodel.pth\") "
   ]
  },
  {
   "cell_type": "markdown",
   "metadata": {},
   "source": [
    "### Transfer Model Goolge Drive Link"
   ]
  },
  {
   "cell_type": "code",
   "execution_count": 46,
   "metadata": {},
   "outputs": [
    {
     "name": "stdout",
     "output_type": "stream",
     "text": [
      "downloading from https://drive.google.com/uc?export=download&id=1nAnWs5g8Z31T_7TkV2x2J_Om0yxsqqEO\n"
     ]
    },
    {
     "data": {
      "text/plain": [
       "IncompatibleKeys(missing_keys=[], unexpected_keys=[])"
      ]
     },
     "execution_count": 46,
     "metadata": {},
     "output_type": "execute_result"
    }
   ],
   "source": [
    "#https://drive.google.com/open?id=1nAnWs5g8Z31T_7TkV2x2J_Om0yxsqqEO\n",
    "fid = '1nAnWs5g8Z31T_7TkV2x2J_Om0yxsqqEO'\n",
    "download(fid, 'transfer_model.pth')\n",
    "model =Transfer()\n",
    "model.load_state_dict(torch.load(\"transfer_model.pth\"))"
   ]
  }
 ],
 "metadata": {
  "kernelspec": {
   "display_name": "Python 3",
   "language": "python",
   "name": "python3"
  },
  "language_info": {
   "codemirror_mode": {
    "name": "ipython",
    "version": 3
   },
   "file_extension": ".py",
   "mimetype": "text/x-python",
   "name": "python",
   "nbconvert_exporter": "python",
   "pygments_lexer": "ipython3",
   "version": "3.7.6"
  }
 },
 "nbformat": 4,
 "nbformat_minor": 2
}
